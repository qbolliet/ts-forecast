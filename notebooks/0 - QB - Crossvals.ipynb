{
 "cells": [
  {
   "cell_type": "markdown",
   "metadata": {},
   "source": [
    "# 0 - QB - Crossvals"
   ]
  },
  {
   "cell_type": "markdown",
   "metadata": {},
   "source": [
    "## Importation des modules"
   ]
  },
  {
   "cell_type": "code",
   "execution_count": null,
   "metadata": {},
   "outputs": [],
   "source": [
    "# Importation des modules\n",
    "# Modules de base\n",
    "import os\n",
    "import pandas as pd\n",
    "# Sklearn\n"
   ]
  },
  {
   "cell_type": "markdown",
   "metadata": {},
   "source": [
    "## Importation des données"
   ]
  },
  {
   "cell_type": "code",
   "execution_count": null,
   "id": "7468d49a",
   "metadata": {},
   "outputs": [],
   "source": [
    "# Importation des données de test"
   ]
  }
 ],
 "metadata": {
  "kernelspec": {
   "display_name": "ts-forecast-YhvOQP7D-py3.12",
   "language": "python",
   "name": "python3"
  },
  "language_info": {
   "name": "python",
   "version": "3.12.4"
  }
 },
 "nbformat": 4,
 "nbformat_minor": 5
}
